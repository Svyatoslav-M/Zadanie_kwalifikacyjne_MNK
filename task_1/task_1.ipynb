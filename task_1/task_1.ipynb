{
 "cells": [
  {
   "cell_type": "code",
   "execution_count": 599,
   "id": "65e8a497-0713-4ec4-9a5a-4ba5107d3d95",
   "metadata": {},
   "outputs": [],
   "source": [
    "import pandas as pd"
   ]
  },
  {
   "cell_type": "code",
   "execution_count": 600,
   "id": "6cf2db0f-cf59-4f41-bf5d-a59e14641b44",
   "metadata": {},
   "outputs": [],
   "source": [
    "data = pd.read_csv(\"data.csv\", sep='\\t')\n",
    "prices = pd.read_csv(\"prices.csv\", sep='\\t')\n",
    "quantity = pd.read_csv(\"quantity.csv\", sep='\\t', header=None)\n",
    "#The quantity table has no header, I'm adding a header\n",
    "quantity.columns = ['part_number', 'quantity']"
   ]
  },
  {
   "cell_type": "code",
   "execution_count": 601,
   "id": "7f05de05-3dac-4aaa-b1b0-099c6eb124b8",
   "metadata": {},
   "outputs": [
    {
     "data": {
      "text/plain": [
       "part_number     395\n",
       "manufacturer    395\n",
       "dtype: int64"
      ]
     },
     "execution_count": 601,
     "metadata": {},
     "output_type": "execute_result"
    }
   ],
   "source": [
    "#I'm checking if there are duplicates in data\n",
    "data[data.duplicated(['part_number', 'manufacturer'])].count()"
   ]
  },
  {
   "cell_type": "code",
   "execution_count": 602,
   "id": "b0a51025-076f-4982-92e4-9df432715bd7",
   "metadata": {},
   "outputs": [],
   "source": [
    "#I delete duplicates and leave the first duplicate value (keep='first')\n",
    "data = data.drop_duplicates(subset=['part_number','manufacturer'], keep='first')"
   ]
  },
  {
   "cell_type": "code",
   "execution_count": 603,
   "id": "b7b0139d-09d1-4561-892f-6aec7a75a5ac",
   "metadata": {},
   "outputs": [],
   "source": [
    "#In the quantity table we have values \">10\", I replace them with 11, for more convenient summation. 11 is the minimum value that satisfies the condition \">10\".\n",
    "quantity.loc[quantity['quantity'] == \">10\", 'quantity'] = 11\n",
    "#I convert the string value of the quentity column to a numeric value for the sum\n",
    "quantity['quantity'] = pd.to_numeric(quantity['quantity'], errors='coerce')\n",
    "#Since there are duplicate part_number values in the table, I remove duplicates and add up the values of the quantity column\n",
    "quantity = quantity.groupby('part_number')['quantity'].sum().reset_index()\n",
    "#I leave only those lines where quantity != 0\n",
    "quantity = quantity[quantity['quantity'] != 0]\n",
    "#If we need to replace quantity >10 with \">10\", we can use the following\n",
    "#quantity.loc[quantity['quantity'] > 10, 'quantity'] = \">10\""
   ]
  },
  {
   "cell_type": "code",
   "execution_count": 604,
   "id": "30bc956e-8b09-4030-bf9e-571f15d03248",
   "metadata": {},
   "outputs": [],
   "source": [
    "#I leave only those lines where price != 0,0\n",
    "prices = prices[prices['price'] != \"0,0\"]"
   ]
  },
  {
   "cell_type": "code",
   "execution_count": 605,
   "id": "59f8bd3c-c6b8-4cf5-977f-835f85c6b484",
   "metadata": {},
   "outputs": [],
   "source": [
    "#I merge the tables data and prices by part_number and the part_number occurrences in both tables (how=\"inner\")\n",
    "merged_tables = pd.merge(data, prices, on=\"part_number\", how=\"inner\")\n",
    "#I merge the tables merged_tables and quantity by part_number and the part_number occurrences in both tables (how=\"inner\")\n",
    "merged_tables = pd.merge(merged_tables, quantity, on=\"part_number\", how=\"inner\")"
   ]
  },
  {
   "cell_type": "code",
   "execution_count": 606,
   "id": "83a44977-26ac-4a23-8719-64a64d3fad25",
   "metadata": {},
   "outputs": [],
   "source": [
    "#I save the final result to a file \"merged_tables.csv\" without adding an index column\n",
    "merged_tables.to_csv(\"merged_tables.csv\", index=False)"
   ]
  },
  {
   "cell_type": "code",
   "execution_count": 607,
   "id": "3ca0014d-482b-4c9d-9ae4-2b0908461120",
   "metadata": {},
   "outputs": [],
   "source": [
    "#I count the number of duplicates of each value manufacturer\n",
    "counts = merged_tables['manufacturer'].value_counts()\n",
    "#I write the result in a txt file in the format \"BRAND1 - 5000 rows\n",
    "with open('manufacturer_rows.txt', 'w', encoding='utf-8') as file:\n",
    "    for index, value in counts.items():\n",
    "        line = f'{index} - {value} rows\\n'\n",
    "        file.write(line)"
   ]
  }
 ],
 "metadata": {
  "kernelspec": {
   "display_name": "Python 3 (ipykernel)",
   "language": "python",
   "name": "python3"
  },
  "language_info": {
   "codemirror_mode": {
    "name": "ipython",
    "version": 3
   },
   "file_extension": ".py",
   "mimetype": "text/x-python",
   "name": "python",
   "nbconvert_exporter": "python",
   "pygments_lexer": "ipython3",
   "version": "3.9.7"
  }
 },
 "nbformat": 4,
 "nbformat_minor": 5
}
